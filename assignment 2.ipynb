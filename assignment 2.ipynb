{
 "cells": [
  {
   "cell_type": "markdown",
   "metadata": {},
   "source": [
    "# Python Basics ( Theory)"
   ]
  },
  {
   "cell_type": "code",
   "execution_count": 7,
   "metadata": {},
   "outputs": [],
   "source": [
    "# 1 What is Python, and why is it popular ?\n",
    "# Python is a high-level, interpreted programming language known for its readability and simplicity. It is popular due to its versatility, extensive libraries, and strong community support. Python is widely used in web development, data analysis, artificial intelligence, scientific computing, and more."
   ]
  },
  {
   "cell_type": "code",
   "execution_count": 6,
   "metadata": {},
   "outputs": [
    {
     "data": {
      "text/plain": [
       "'\" an interpreter is a program that executes Python code line by line, translating it into machine code that the computer can understand. This allows for immediate execution and testing of code without the need for compilation. Python\\'s interpreter is known for its ease of use and interactive capabilities, making it a popular choice for developers and learners alike. '"
      ]
     },
     "execution_count": 6,
     "metadata": {},
     "output_type": "execute_result"
    }
   ],
   "source": [
    "# 2 what is an interpreter in python ?\n",
    "\"\"\"\" an interpreter is a program that executes Python code line by line, translating it into machine code that the computer can understand. This allows for immediate execution and testing of code without the need for compilation. Python's interpreter is known for its ease of use and interactive capabilities, making it a popular choice for developers and learners alike. \"\"\""
   ]
  },
  {
   "cell_type": "code",
   "execution_count": 4,
   "metadata": {},
   "outputs": [
    {
     "data": {
      "text/plain": [
       "'\" pre-defined keywords in Python are reserved words that have special meaning in the language. They cannot be used as identifiers (variable names, function names, etc.) because they are part of the syntax. Examples include \\'if\\', \\'else\\', \\'while\\', \\'for\\', \\'def\\', \\'class\\', \\'import\\', and \\'return\\'. These keywords define the structure and flow of Python programs, enabling control flow, function definitions, and more. '"
      ]
     },
     "execution_count": 4,
     "metadata": {},
     "output_type": "execute_result"
    }
   ],
   "source": [
    "# 3 What are pre-defined keywords in Python \n",
    "\"\"\"\" pre-defined keywords in Python are reserved words that have special meaning in the language. They cannot be used as identifiers (variable names, function names, etc.) because they are part of the syntax. Examples include 'if', 'else', 'while', 'for', 'def', 'class', 'import', and 'return'. These keywords define the structure and flow of Python programs, enabling control flow, function definitions, and more. \"\"\""
   ]
  },
  {
   "cell_type": "code",
   "execution_count": 5,
   "metadata": {},
   "outputs": [
    {
     "data": {
      "text/plain": [
       "'\" No, keywords cannot be used as variable names in Python.\\nKeywords are reserved words that have special meaning in the language\\'s syntax. \\nUsing them as variable names would lead to syntax errors and confusion in the code. \\nIt\\'s important to choose meaningful and descriptive names for variables that do not conflict with Python\\'s keywords. '"
      ]
     },
     "execution_count": 5,
     "metadata": {},
     "output_type": "execute_result"
    }
   ],
   "source": [
    "# 4 Can keywords be used as variable names ?\n",
    "\"\"\"\" No, keywords cannot be used as variable names in Python.\n",
    "Keywords are reserved words that have special meaning in the language's syntax. \n",
    "Using them as variable names would lead to syntax errors and confusion in the code. \n",
    "It's important to choose meaningful and descriptive names for variables that do not conflict with Python's keywords. \"\"\""
   ]
  },
  {
   "cell_type": "code",
   "execution_count": 3,
   "metadata": {},
   "outputs": [
    {
     "data": {
      "text/plain": [
       "'\"mutability in Python refers to the ability of an object to be changed after it has been created. \\nMutable objects, such as lists and dictionaries, can have their contents modified, while immutable objects, \\nsuch as strings and tuples, cannot be changed once they are created. This distinction is important for understanding how data is managed in Python and can affect performance and memory usage. '"
      ]
     },
     "execution_count": 3,
     "metadata": {},
     "output_type": "execute_result"
    }
   ],
   "source": [
    "# 5  What is mutability in Python ?\n",
    "\"\"\"\"mutability in Python refers to the ability of an object to be changed after it has been created. \n",
    "Mutable objects, such as lists and dictionaries, can have their contents modified, while immutable objects, \n",
    "such as strings and tuples, cannot be changed once they are created. This distinction is important for understanding how data is managed in Python and can affect performance and memory usage. \"\"\""
   ]
  },
  {
   "cell_type": "code",
   "execution_count": null,
   "metadata": {},
   "outputs": [],
   "source": [
    "# 6 Why are lists mutable, but tuples are immutable ?\n",
    "\"\"\"\" lists are mutable in Python because they are designed to allow dynamic changes, such as adding, removing, or modifying elements.\n",
    "Tuples, on the other hand, are immutable to provide a fixed structure and ensure that their contents remain constant throughout their lifetime. \n",
    "This immutability can lead to performance benefits and helps prevent unintended side effects in code. The choice between lists and tuples depends on the specific use case and whether mutability is required. \"\"\""
   ]
  },
  {
   "cell_type": "code",
   "execution_count": null,
   "metadata": {},
   "outputs": [],
   "source": [
    "# 7 What is the difference between “==” and “is” operators in Python ?\n",
    "\"\"\"\" The '==' operator checks for value equality, meaning it compares the values of two objects to see if they are the same.\n",
    "The 'is' operator checks for identity, meaning it compares the memory addresses of two objects to see if they are the same object in memory.\"\"\""
   ]
  },
  {
   "cell_type": "code",
   "execution_count": null,
   "metadata": {},
   "outputs": [],
   "source": [
    "# 8 What are logical operators in Python ?\n",
    "\"\"\"\" Logical operators in Python are used to combine conditional statements.\n",
    "They include: AND, OR, NOT.\"\"\" \n"
   ]
  },
  {
   "cell_type": "code",
   "execution_count": null,
   "metadata": {},
   "outputs": [],
   "source": [
    "# 9 What is type casting in Python ?\n",
    "\"\"\"\" Type casting in Python is the process of converting one data type into another.\n",
    "This can be done explicitly using functions like int(), float(), str(), etc. or implicitly when you assign a value of one data type to a variable of another data type. \"\"\""
   ]
  },
  {
   "cell_type": "code",
   "execution_count": null,
   "metadata": {},
   "outputs": [],
   "source": [
    "# 10 What is the difference between implicit and explicit type casting ?\n",
    "\"\"\"\" Implicit type casting (automatic type conversion) is performed by Python without any user intervention,\n",
    "whereas explicit type casting (manual type conversion) requires the user to specify the conversion using functions like int(), float(), str(), etc.\n",
    "Implicit casting occurs when converting smaller data types to larger ones, while explicit casting is used when converting larger data types to smaller ones or between incompatible types. \"\"\""
   ]
  },
  {
   "cell_type": "code",
   "execution_count": null,
   "metadata": {},
   "outputs": [],
   "source": [
    "# 11 What is the purpose of conditional statements in Python ?\n",
    "\"\"\"\" Conditional statements in Python are used to execute different blocks of code based on certain conditions.\n",
    "They allow for decision-making in programs, enabling the execution of specific actions when certain criteria are met. \n",
    "The most common conditional statements are 'if', 'elif', and 'else'. These statements help control the flow of the program and implement logic based on user input or other conditions. \"\"\""
   ]
  },
  {
   "cell_type": "code",
   "execution_count": null,
   "metadata": {},
   "outputs": [],
   "source": [
    "# 12  How does the elif statement work ?\n",
    "\"\"\"\" The 'elif' statement in Python is short for \"else if\" and is used to check multiple conditions in a conditional statement.\n",
    "When an 'if' statement evaluates to False, the program checks the condition in the 'elif' statement. If the 'elif' condition is True,\n",
    "the corresponding block of code is executed. If it is also False, the program continues to check any subsequent 'elif' statements or executes the 'else' block if present.\n",
    "This allows for multiple conditions to be evaluated in a clear and organized manner. \"\"\""
   ]
  },
  {
   "cell_type": "code",
   "execution_count": null,
   "metadata": {},
   "outputs": [],
   "source": [
    "# 13 What is the difference between for and while loops ?\n",
    "\"\"\"\" The 'for' loop in Python is used to iterate over a sequence (like a list, tuple, or string) or other iterable objects.\n",
    "It is typically used when the number of iterations is known or when you want to iterate through a collection of items.\n",
    "The 'while' loop in Python is used to execute a block of code as long as a certain condition is True.\n",
    "It is typically used when the number of iterations is not known in advance and depends on a condition being met.\"\"\""
   ]
  },
  {
   "cell_type": "code",
   "execution_count": null,
   "metadata": {},
   "outputs": [],
   "source": [
    "# 14 Describe a scenario where a while loop is more suitable than a for loop.\n",
    "\"\"\" A while loop is more suitable than a for loop when the number of iterations is not predetermined and depends on a specific condition being met.\n",
    "For example, if you want to keep prompting a user for input until they provide a valid response, a while loop would be ideal.\"\"\""
   ]
  },
  {
   "cell_type": "markdown",
   "metadata": {},
   "source": [
    "# Python Basics (Practical)"
   ]
  },
  {
   "cell_type": "code",
   "execution_count": 8,
   "metadata": {},
   "outputs": [
    {
     "name": "stdout",
     "output_type": "stream",
     "text": [
      "Hello, World!\n"
     ]
    }
   ],
   "source": [
    "# 1  Write a Python program to print \"Hello, World!\"\n",
    "print(\"Hello, World!\") "
   ]
  },
  {
   "cell_type": "code",
   "execution_count": 9,
   "metadata": {},
   "outputs": [
    {
     "name": "stdout",
     "output_type": "stream",
     "text": [
      "Name: John Doe\n",
      "Age: 25\n"
     ]
    }
   ],
   "source": [
    "# 2 Write a Python program that displays your name and age.\n",
    "name = \"John Doe\"\n",
    "age = 25\n",
    "print(\"Name:\", name)\n",
    "print(\"Age:\", age)"
   ]
  },
  {
   "cell_type": "code",
   "execution_count": 13,
   "metadata": {},
   "outputs": [
    {
     "name": "stdout",
     "output_type": "stream",
     "text": [
      "Pre-defined keywords in Python:\n",
      "False\n",
      "None\n",
      "True\n",
      "and\n",
      "as\n",
      "assert\n",
      "async\n",
      "await\n",
      "break\n",
      "class\n",
      "continue\n",
      "def\n",
      "del\n",
      "elif\n",
      "else\n",
      "except\n",
      "finally\n",
      "for\n",
      "from\n",
      "global\n",
      "if\n",
      "import\n",
      "in\n",
      "is\n",
      "lambda\n",
      "nonlocal\n",
      "not\n",
      "or\n",
      "pass\n",
      "raise\n",
      "return\n",
      "try\n",
      "while\n",
      "with\n",
      "yield\n"
     ]
    }
   ],
   "source": [
    "# 3 Write code to print all the pre-defined keywords in Python using the keyword library.\n",
    "import keyword\n",
    "\n",
    "def print_keywords():\n",
    "    \"\"\"\n",
    "    Prints all the pre-defined keywords in Python.\n",
    "    \"\"\"\n",
    "    print(\"Pre-defined keywords in Python:\")\n",
    "    for keyword_name in keyword.kwlist:\n",
    "        print(keyword_name)\n",
    "\n",
    "if __name__ == \"__main__\":\n",
    "    print_keywords()"
   ]
  },
  {
   "cell_type": "code",
   "execution_count": 5,
   "metadata": {},
   "outputs": [
    {
     "name": "stdout",
     "output_type": "stream",
     "text": [
      "if is a Python keyword.\n"
     ]
    }
   ],
   "source": [
    "# 4 Write a program that checks if a given word is a Python keyword.\n",
    "import keyword\n",
    "def is_keyword(word):\n",
    "    \"\"\"\n",
    "    Checks if the given word is a Python keyword.\n",
    "    \"\"\"\n",
    "    return keyword.iskeyword(word)\n",
    "# Test the function\n",
    "word = \"if\"  # Change this to test different words\n",
    "if is_keyword(word):\n",
    "    print(f\"{word} is a Python keyword.\")\n",
    "else:\n",
    "    print(f\"{word} is not a Python keyword.\")"
   ]
  },
  {
   "cell_type": "code",
   "execution_count": 7,
   "metadata": {},
   "outputs": [
    {
     "name": "stdout",
     "output_type": "stream",
     "text": [
      "List after modification: [10, 2, 3, 4, 5]\n",
      "Error modifying tuple: 'tuple' object does not support item assignment\n"
     ]
    }
   ],
   "source": [
    "# 5 Create a list and tuple in Python, and demonstrate how attempting to change an element works differently for each.\n",
    "my_list = [1, 2, 3, 4, 5]\n",
    "my_tuple = (1, 2, 3, 4, 5)\n",
    "# Attempt to change the first element of the list and the tuple\n",
    "try:\n",
    "    my_list[0] = 10  # This will work\n",
    "    print(\"List after modification:\", my_list)\n",
    "except TypeError as e:\n",
    "    print(\"Error modifying list:\", e)\n",
    "try:\n",
    "    my_tuple[0] = 10  # This will raise an error\n",
    "    print(\"Tuple after modification:\", my_tuple)  # This line will not execute due to the error \n",
    "except TypeError as e:\n",
    "    print(\"Error modifying tuple:\", e)\n",
    "\n",
    "\n",
    "    \n",
    "    \n"
   ]
  },
  {
   "cell_type": "code",
   "execution_count": 8,
   "metadata": {},
   "outputs": [
    {
     "name": "stdout",
     "output_type": "stream",
     "text": [
      "Original list: [1, 2, 3]\n",
      "Modified list: [100, 2, 3]\n",
      "Error modifying tuple: 'tuple' object does not support item assignment\n"
     ]
    }
   ],
   "source": [
    "# 6  Write a function to demonstrate the behavior of mutable and immutable arguments.\n",
    "def modify_list(lst):\n",
    "    \"\"\"\n",
    "    Modifies the first element of the list passed as an argument.\n",
    "    \"\"\"\n",
    "    lst[0] = 100  # This will modify the original list\n",
    "    return lst\n",
    "# Test the function with a mutable argument (list)\n",
    "original_list = [1, 2, 3]\n",
    "modified_list = modify_list(original_list.copy())  # Pass a copy to avoid modifying the original\n",
    "print(\"Original list:\", original_list)  # Original list remains unchanged\n",
    "print(\"Modified list:\", modified_list)  # Modified list is modified as expected\n",
    "# Test the function with an immutable argument (tuple)\n",
    "def modify_tuple(tup):\n",
    "    \"\"\"\n",
    "    Attempts to modify the first element of the tuple passed as an argument.\n",
    "    \"\"\"\n",
    "    try:\n",
    "        tup[0] = 100  # This will raise an error\n",
    "    except TypeError as e:\n",
    "        print(\"Error modifying tuple:\", e)\n",
    "# Test the function with an immutable argument (tuple)\n",
    "original_tuple = (1, 2, 3)\n",
    "modify_tuple(original_tuple)  # This will raise an error\n"
   ]
  },
  {
   "cell_type": "code",
   "execution_count": null,
   "metadata": {},
   "outputs": [
    {
     "name": "stdout",
     "output_type": "stream",
     "text": [
      "Addition: 16.0\n",
      "Subtraction: 0.0\n",
      "Multiplication: 64.0\n",
      "Division: 1.0\n",
      "Modulus: 0.0\n"
     ]
    }
   ],
   "source": [
    "# 7 Write a program that performs basic arithmetic operations on two user-input numbers.\n",
    "def basic_arithmetic_operations(num1, num2):\n",
    "    \"\"\"\n",
    "    Performs basic arithmetic operations on two numbers.\n",
    "    \"\"\"\n",
    "    print(\"Addition:\", num1 + num2)\n",
    "    print(\"Subtraction:\", num1 - num2)\n",
    "    print(\"Multiplication:\", num1 * num2)\n",
    "    print(\"Division:\", num1 / num2 if num2 != 0 else \"Cannot divide by zero\")\n",
    "# Get user input\n",
    "num1 = float(input(\"Enter the first number: \"))\n",
    "num2 = float(input(\"Enter the second number: \"))\n",
    "# Perform arithmetic operations\n",
    "basic_arithmetic_operations(num1, num2)"
   ]
  },
  {
   "cell_type": "code",
   "execution_count": null,
   "metadata": {},
   "outputs": [
    {
     "name": "stdout",
     "output_type": "stream",
     "text": [
      "a and b: False\n",
      "a or b: True\n",
      "not a: False\n"
     ]
    }
   ],
   "source": [
    "# 8  Write a program to demonstrate the use of logical operators.\n",
    "def logical_operators_demo(a, b):\n",
    "    \"\"\"\n",
    "    Demonstrates the use of logical operators.\n",
    "    \"\"\"\n",
    "    print(\"a and b:\", a and b)  # Logical AND\n",
    "    print(\"a or b:\", a or b)    # Logical OR\n",
    "    print(\"not a:\", not a)      # Logical NOT\n",
    "# Test the function with boolean values\n",
    "a = True\n",
    "b = False\n",
    "logical_operators_demo(a, b)"
   ]
  },
  {
   "cell_type": "code",
   "execution_count": 16,
   "metadata": {},
   "outputs": [
    {
     "name": "stdout",
     "output_type": "stream",
     "text": [
      "Integer value: 10\n",
      "Float value: 10.0\n",
      "Boolean value: True\n"
     ]
    }
   ],
   "source": [
    "# 9  Write a Python program to convert user input from string to integer, float, and boolean types.\n",
    "def type_conversion_demo(user_input):\n",
    "    \"\"\"\n",
    "    Converts user input from string to integer, float, and boolean types.\n",
    "    \"\"\"\n",
    "    try:\n",
    "        int_value = int(user_input)\n",
    "        float_value = float(user_input)\n",
    "        bool_value = bool(user_input)  # Non-empty string is True\n",
    "        print(\"Integer value:\", int_value)\n",
    "        print(\"Float value:\", float_value)\n",
    "        print(\"Boolean value:\", bool_value)\n",
    "    except ValueError as e:\n",
    "        print(\"Error in conversion:\", e)\n",
    "# Get user input\n",
    "user_input = input(\"Enter a value: \")\n",
    "# Perform type conversion\n",
    "type_conversion_demo(user_input)\n",
    "\n"
   ]
  },
  {
   "cell_type": "code",
   "execution_count": 17,
   "metadata": {},
   "outputs": [
    {
     "name": "stdout",
     "output_type": "stream",
     "text": [
      "List after type casting to strings: ['1', '2.5', '3', 'True', 'hello']\n",
      "List after type casting to integers: [1, 1]\n"
     ]
    }
   ],
   "source": [
    "# 10 Write code to demonstrate type casting with list elements.\n",
    "def type_casting_list_elements(my_list):\n",
    "    \"\"\"\n",
    "    Demonstrates type casting with list elements.\n",
    "    \"\"\"\n",
    "    # Convert all elements to strings\n",
    "    string_list = [str(element) for element in my_list]\n",
    "    print(\"List after type casting to strings:\", string_list)\n",
    "    # Convert all elements to integers (if possible)\n",
    "    integer_list = [int(element) for element in my_list if isinstance(element, int)]\n",
    "    print(\"List after type casting to integers:\", integer_list)\n",
    "# Test the function with a list containing different types\n",
    "my_list = [1, 2.5, \"3\", True, \"hello\"]\n",
    "type_casting_list_elements(my_list)\n"
   ]
  },
  {
   "cell_type": "code",
   "execution_count": 18,
   "metadata": {},
   "outputs": [
    {
     "name": "stdout",
     "output_type": "stream",
     "text": [
      "The number is negative.\n"
     ]
    }
   ],
   "source": [
    "# 11  Write a program that checks if a number is positive, negative, or zero.\n",
    "if __name__ == \"__main__\":\n",
    "    number = float(input(\"Enter a number: \"))\n",
    "    if number > 0:\n",
    "        print(\"The number is positive.\")\n",
    "    elif number < 0:\n",
    "        print(\"The number is negative.\")\n",
    "    else:\n",
    "        print(\"The number is zero.\")"
   ]
  },
  {
   "cell_type": "code",
   "execution_count": null,
   "metadata": {},
   "outputs": [
    {
     "name": "stdout",
     "output_type": "stream",
     "text": [
      "1\n",
      "2\n",
      "3\n",
      "4\n",
      "5\n",
      "6\n",
      "7\n",
      "8\n",
      "9\n",
      "10\n"
     ]
    }
   ],
   "source": [
    "# 12 Write a for loop to print numbers from 1 to 10.\n",
    "for i in range(1, 11):\n",
    "    print(i)"
   ]
  },
  {
   "cell_type": "code",
   "execution_count": 21,
   "metadata": {},
   "outputs": [
    {
     "name": "stdout",
     "output_type": "stream",
     "text": [
      "2 4 6 8 10 12 14 16 18 20 22 24 26 28 30 32 34 36 38 40 42 44 46 48 50 \n",
      "Sum of even numbers between 1 and 50: 650\n"
     ]
    }
   ],
   "source": [
    "# 13  Write a Python program to find the sum of all even numbers between 1 and 50.\n",
    "for i in range(1, 51):\n",
    "    if i % 2 == 0:\n",
    "        print(i, end=\" \")  # Print even numbers in a single line\n",
    "sum_of_even_numbers = sum(i for i in range(1, 51) if i % 2 == 0)\n",
    "print(\"\\nSum of even numbers between 1 and 50:\", sum_of_even_numbers)"
   ]
  },
  {
   "cell_type": "code",
   "execution_count": 24,
   "metadata": {},
   "outputs": [
    {
     "name": "stdout",
     "output_type": "stream",
     "text": [
      "Reversed string: 11 01 9  8\n",
      "Exiting the program.\n"
     ]
    }
   ],
   "source": [
    "# 14  Write a program to reverse a string using a while loop.\n",
    "while True:\n",
    "    user_input = input(\"Enter a string to reverse (or 'exit' to quit): \")    \n",
    "    if user_input.lower() == 'exit':\n",
    "        break \n",
    "    reversed_string = \"\"\n",
    "    index = len(user_input) - 1\n",
    "    while index >= 0:\n",
    "        reversed_string += user_input[index]\n",
    "        index -= 1\n",
    "    print(\"Reversed string:\", reversed_string)\n",
    "print(\"Exiting the program.\")  # Print a message when exiting the loop\n",
    "    \n",
    "    "
   ]
  },
  {
   "cell_type": "code",
   "execution_count": 28,
   "metadata": {},
   "outputs": [
    {
     "name": "stdout",
     "output_type": "stream",
     "text": [
      "The factorial of 100 is 93326215443944152681699238856266700490715968264381621468592963895217599993229915608941463976156518286253697920827223758251185210916864000000000000000000000000.\n",
      "The factorial of 2 is 2.\n",
      "The factorial of 4 is 24.\n",
      "Exiting the program.\n"
     ]
    }
   ],
   "source": [
    "# 15  Write a Python program to calculate the factorial of a number provided by the user using a while loop.\n",
    "while True:\n",
    "     number = int(input(\"Enter a positive integer to calculate its factorial (or -1 to exit): \"))\n",
    "     if number == -1:\n",
    "         break\n",
    "     if number < 0:\n",
    "         print(\"Factorial is not defined for negative numbers.\")\n",
    "         continue\n",
    "     factorial = 1\n",
    "     i = 1\n",
    "     while i <= number:\n",
    "                factorial *= i\n",
    "                i += 1\n",
    "     print(f\"The factorial of {number} is {factorial}.\")\n",
    "print(\"Exiting the program.\")  # Print a message when exiting the loop"
   ]
  },
  {
   "cell_type": "code",
   "execution_count": null,
   "metadata": {},
   "outputs": [],
   "source": []
  }
 ],
 "metadata": {
  "kernelspec": {
   "display_name": "Python 3",
   "language": "python",
   "name": "python3"
  },
  "language_info": {
   "codemirror_mode": {
    "name": "ipython",
    "version": 3
   },
   "file_extension": ".py",
   "mimetype": "text/x-python",
   "name": "python",
   "nbconvert_exporter": "python",
   "pygments_lexer": "ipython3",
   "version": "3.11.8"
  }
 },
 "nbformat": 4,
 "nbformat_minor": 2
}
